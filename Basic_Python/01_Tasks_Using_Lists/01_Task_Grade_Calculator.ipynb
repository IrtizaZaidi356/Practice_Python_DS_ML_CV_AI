{
 "cells": [
  {
   "cell_type": "markdown",
   "metadata": {},
   "source": [
    "# **`Assignments using Lists in Python:`**\n",
    "\n",
    "## **Assignment 1: `Grade Calculator:`**\n",
    "\n",
    "#### **`Objective:`**\n",
    "  -  Create a `program` that `calculates the grades` for a `list of student` based on their `average scores:`\n",
    "\n",
    "#### **`Task:`**\n",
    "  1. Create a `list` of `student names`.\n",
    "\n",
    "  2. Create a `list` of corresponding `average scores` for each `student`.\n",
    "\n",
    "  3. Use a `for loop` to iterate through the `list`.\n",
    "\n",
    "  4. Apply `if-elif-else` conditions to determine the `Grades (e.g: A,B,C,D, or F)` based on the average score.\n",
    "\n",
    "  5. `Display` the `student names` and their corresponding `Grades`."
   ]
  },
  {
   "cell_type": "markdown",
   "metadata": {},
   "source": [
    "#### **Step 1: Create a `List` of `Student Name:`**"
   ]
  },
  {
   "cell_type": "code",
   "execution_count": 1,
   "metadata": {},
   "outputs": [],
   "source": [
    "# Step 1: Create a List of Student Name\n",
    "student_name = [\"Ali\", \"Basit\", \"Fawad\", \"Haider\", \"Jamal\"]"
   ]
  },
  {
   "cell_type": "markdown",
   "metadata": {},
   "source": [
    "#### **Step 2: Create a `list` of corresponding `average scores` for `each student`:**"
   ]
  },
  {
   "cell_type": "code",
   "execution_count": 2,
   "metadata": {},
   "outputs": [],
   "source": [
    "# Step 2: Create a list of corresponding average scores for each student\n",
    "average_scores = [85, 67, 34, 57, 75, 23]"
   ]
  },
  {
   "cell_type": "markdown",
   "metadata": {},
   "source": [
    "#### **Step 3: Use a `for loop` to iterate through the `list`.** \n",
    "#### **Step 4: Apply `if-elif-else conditions` to determine the `Grade (e.g: A,B,C,D,F)` based on the `average Score.`**\n",
    "#### **Step 5: `Display` the `student name` and their corresponding `Grades.`**"
   ]
  },
  {
   "cell_type": "code",
   "execution_count": 4,
   "metadata": {},
   "outputs": [
    {
     "name": "stdout",
     "output_type": "stream",
     "text": [
      "Ali, Grade: A+\n",
      "Basit, Grade: B\n",
      "Fawad, Grade: F\n",
      "Haider, Grade: C\n",
      "Jamal, Grade: A\n"
     ]
    }
   ],
   "source": [
    "# Step 3: Use a `for loop` to iterate through the `list`.\n",
    "for i in range(len(student_name)): \n",
    "    # Step 4: Apply `if-elif-else conditions` to determine the `Grade (e.g: A,B,C,D,F)` based on the `average Score.`\n",
    "    if average_scores[i] >=80:\n",
    "        grade = \"A+\"\n",
    "    elif average_scores[i] >= 70:\n",
    "        grade = \"A\"\n",
    "    elif average_scores[i] >=60:\n",
    "        grade = \"B\"\n",
    "    elif average_scores[i] >= 50:\n",
    "        grade = \"C\"\n",
    "    elif average_scores[i] >= 45:\n",
    "        grade = \"D\"\n",
    "    else:\n",
    "        grade = \"F\"\n",
    "    \n",
    "    # Step 5: Display the student name and their corresponding Grades.\n",
    "    print(f\"{student_name[i]}, Grade: {grade}\")  \n",
    "    "
   ]
  }
 ],
 "metadata": {
  "kernelspec": {
   "display_name": "Python 3",
   "language": "python",
   "name": "python3"
  },
  "language_info": {
   "codemirror_mode": {
    "name": "ipython",
    "version": 3
   },
   "file_extension": ".py",
   "mimetype": "text/x-python",
   "name": "python",
   "nbconvert_exporter": "python",
   "pygments_lexer": "ipython3",
   "version": "3.10.10"
  }
 },
 "nbformat": 4,
 "nbformat_minor": 2
}
