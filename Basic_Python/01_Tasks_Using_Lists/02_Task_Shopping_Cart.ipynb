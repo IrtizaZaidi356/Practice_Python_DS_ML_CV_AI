{
 "cells": [
  {
   "cell_type": "markdown",
   "metadata": {},
   "source": [
    "# **`Practice: Assignments using Lists in Python:`**\n",
    "## **Assignment 2: `Shopping Cart`**\n",
    "\n",
    "#### **`Objective`**: \n",
    " - Develop a simple `shopping cart` program that `calculates` the `total cost` of `items` in the `cart`.\n",
    "\n",
    "#### **`Tasks:`**\n",
    "  1. Create a `list of items` in the `shopping cart.`\n",
    "  \n",
    "  2. Create a `list` of corresponding `prices` for `each item.`\n",
    "  \n",
    "  3. Use a for `loop` to iterate through the `items` and `prices.`\n",
    "  \n",
    "  4. Allow the `user to input` the `quantity` of each `item.`\n",
    "  \n",
    "  5. `Calculate` and `display` the `total cost` of the `items` in the `shopping cart.`"
   ]
  },
  {
   "cell_type": "code",
   "execution_count": 15,
   "metadata": {},
   "outputs": [
    {
     "name": "stdout",
     "output_type": "stream",
     "text": [
      "\t\tGrocery Items List with Price: \n",
      "\n",
      "\t\tShopping Cart:\n",
      "\n",
      "Sugar: 6 Qty:-------- Rs: 942.00/-\n",
      "Cooking Oil: 5 Qty:-------- Rs: 2825.00/-\n",
      "Daal Moong(500gm): 4 Qty:-------- Rs: 1024.00/-\n",
      "Turmeric (Haldi): 3 Qty:-------- Rs: 330.00/-\n",
      "National Tomato Ketchup - 800gm: 2 Qty:-------- Rs: 710.00/-\n",
      "\n",
      "----------------------------------------------\n",
      "\tTotal Cost: Rs: 5831.00/-\n",
      "----------------------------------------------\n"
     ]
    }
   ],
   "source": [
    "print(\"\\t\\tGrocery Items List with Price: \\n\")\n",
    "\n",
    "# Step 1: Create a `list of items` in the `shopping cart.`\n",
    "items = [\"Sugar\", \"Cooking Oil\", \"Daal Moong(500gm)\", \"Turmeric (Haldi)\",\"National Tomato Ketchup - 800gm\"]\n",
    "\n",
    "# Step 2: Create a `list` of corresponding `prices` for `each item.`\n",
    "prices = [157, 565, 256, 110, 355]\n",
    "\n",
    "# Initialize an empty dictionary to store quantity of each item:\n",
    "cart = {}\n",
    "\n",
    "# Step 3: Use a for `loop` to iterate through the `items` and `prices:`\n",
    "for i in range(len(items)):\n",
    "    \n",
    "    # Step 4: Allow the `user to input` the `quantity` of each `item.`\n",
    "    quantity =  int(input(f\"Enter the quantity of {items[i]}:\"))\n",
    "    \n",
    "    # Store the quantity in the cart dictionary\n",
    "    cart[items[i]] = quantity\n",
    "\n",
    "# Step 5: `Calculate` and `display` the `total cost` of the `items` in the `shopping cart.`\n",
    "total_cost = 0.0\n",
    "print(\"\\t\\tShopping Cart:\\n\")\n",
    "for item, quantity in cart.items():\n",
    "    item_index = items.index(item)\n",
    "    item_price = prices[item_index]\n",
    "    item_total = item_price * quantity\n",
    "    total_cost += item_total\n",
    "    \n",
    "    print(f\"{item}: {quantity} Qty:-------- Rs: {item_total:.2f}/-\")\n",
    "\n",
    "print(\"\\n----------------------------------------------\")\n",
    "print(\"\\tTotal Cost: Rs: {:.2f}/-\".format(total_cost))\n",
    "print(\"----------------------------------------------\")"
   ]
  },
  {
   "cell_type": "code",
   "execution_count": null,
   "metadata": {},
   "outputs": [],
   "source": []
  }
 ],
 "metadata": {
  "kernelspec": {
   "display_name": "Python 3",
   "language": "python",
   "name": "python3"
  },
  "language_info": {
   "codemirror_mode": {
    "name": "ipython",
    "version": 3
   },
   "file_extension": ".py",
   "mimetype": "text/x-python",
   "name": "python",
   "nbconvert_exporter": "python",
   "pygments_lexer": "ipython3",
   "version": "3.10.10"
  }
 },
 "nbformat": 4,
 "nbformat_minor": 2
}
